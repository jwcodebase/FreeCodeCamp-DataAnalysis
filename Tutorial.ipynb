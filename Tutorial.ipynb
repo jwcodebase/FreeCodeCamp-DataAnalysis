{
 "cells": [
  {
   "cell_type": "markdown",
   "metadata": {},
   "source": [
    "![rmotr](https://user-images.githubusercontent.com/7065401/52071918-bda15380-2562-11e9-828c-7f95297e4a82.png)\n",
    "<hr style=\"margin-bottom: 40px;\">\n",
    "\n",
    "<img src=\"https://user-images.githubusercontent.com/7065401/55025843-7d99a280-4fe0-11e9-938a-4879d95c4130.png\"\n",
    "    style=\"width:150px; float: right; margin: 0 40px 40px 40px;\"></img>\n",
    "\n",
    "# Interactive Notebooks Tutorial\n",
    "\n",
    "Welcome to Notebooks.ai ❤️, a fully online 🤖, cloud-based ☁️ Data Science environment. All your work, analysis and datasets organized in the same place 🙌.\n",
    "\n",
    "![purple-divider](https://user-images.githubusercontent.com/7065401/52071927-c1cd7100-2562-11e9-908a-dde91ba14e59.png)"
   ]
  },
  {
   "cell_type": "markdown",
   "metadata": {},
   "source": [
    "### Objective of this tutorial:\n",
    "\n",
    "> **Help you get started with Notebooks.ai for Data Science and Python programming.**\n",
    "\n",
    "_Need help? Create an [issue](https://github.com/notebooks-ai/notebooks-help)._\n",
    "\n",
    "![green-divider](https://user-images.githubusercontent.com/7065401/52071924-c003ad80-2562-11e9-8297-1c6595f8a7ff.png)\n",
    "\n",
    "## Jupyter Notebooks\n",
    "\n",
    "This document that you're currently reading is a \"Jupyter Notebook\", and you've probably heard about it before. It's like a text document, but you can run code on it! It can also display inline graphs, pull data from Databases or show excel spreadsheets live! Isn't it amazing? 😄 \n",
    "\n",
    "**Mildly interesting fact of the day:**\n",
    "\n",
    "> _Jupyter is a nod to 3 languages: Julia, Python, and R._ Source [@jakevdp](https://twitter.com/jakevdp/status/1033071052652302336).\n",
    "\n",
    "This is a really quick tutorial on how to get started with Jupyter notebooks (and lab). It shouldn't take more than 10 minutes and you'll be writing Python code right away.\n",
    "\n",
    "### Part 1: everything is a _cell_\n",
    "\n",
    "Jupyter Notebooks are organized as a set of _\"cells\"_. Each cell can contain different types of content: like Python code (or R, Julia, etc), images or even human readable text (markdown), like the one you're currently reading.\n",
    "\n",
    "I've left a couple of empty cells below for you to see them:"
   ]
  },
  {
   "cell_type": "code",
   "execution_count": null,
   "metadata": {},
   "outputs": [],
   "source": []
  },
  {
   "cell_type": "code",
   "execution_count": null,
   "metadata": {},
   "outputs": [],
   "source": []
  },
  {
   "cell_type": "code",
   "execution_count": null,
   "metadata": {},
   "outputs": [],
   "source": []
  },
  {
   "cell_type": "markdown",
   "metadata": {},
   "source": [
    "This is another cell containing Markdown (human readable) code. And below, another empty cell:"
   ]
  },
  {
   "cell_type": "code",
   "execution_count": null,
   "metadata": {},
   "outputs": [],
   "source": []
  },
  {
   "cell_type": "markdown",
   "metadata": {},
   "source": [
    "You can edit these cells just by double clicking on them. Try editing the following cell:"
   ]
  },
  {
   "cell_type": "markdown",
   "metadata": {},
   "source": [
    "**👉 Double click on me 👈**"
   ]
  },
  {
   "cell_type": "markdown",
   "metadata": {},
   "source": [
    "When you double click the cell, it should open an \"edit mode\", and you should see something similar to:\n",
    "\n",
    "![image](images/_1.png)"
   ]
  },
  {
   "cell_type": "markdown",
   "metadata": {},
   "source": [
    "If you're seeing those asterisks, it's because you've correctly entered \"Edit Mode\". Once you've made the changes, you have to \"execute\", or \"run\" the cell to reflect the changes. To do that just click on the little _play_ button on the top menu bar:\n",
    "\n",
    "![image](images/_2.png)"
   ]
  },
  {
   "cell_type": "markdown",
   "metadata": {},
   "source": [
    "Jupyter notebooks are optimized for an efficient workflow. There are many keyboard shortcuts that will let you interact with your documents, run code and make other changes; mastering these shortcuts will speed up your work. For example, there are two shortcuts to execute a cell:\n",
    "\n",
    "1. `shift + return`: Run cell and advance to the next one.\n",
    "2. `ctrl  + return`: Run the cell but don't change focus.\n",
    "\n",
    "\n",
    "Try them with the following cell:"
   ]
  },
  {
   "cell_type": "code",
   "execution_count": 1,
   "metadata": {},
   "outputs": [
    {
     "data": {
      "text/plain": [
       "4"
      ]
     },
     "execution_count": 1,
     "metadata": {},
     "output_type": "execute_result"
    }
   ],
   "source": [
    "2 + 2"
   ]
  },
  {
   "cell_type": "markdown",
   "metadata": {},
   "source": [
    "You can try executing these cells as many times as you want, it won't break anything"
   ]
  },
  {
   "cell_type": "markdown",
   "metadata": {},
   "source": [
    "#### `ctrl + Return` effect:\n",
    "\n",
    "As you can see in the following animation, the code is correctly executed (it returns 4) and the focus (the blue line at the left side of the cell) stays in the same cell.\n",
    "\n",
    "![ctrl+enter effect](images/_3.gif)\n",
    "\n",
    "Now compare it to the next shortcut, `shift + return`:\n",
    "\n",
    "#### `shift + Return` effect:\n",
    "\n",
    "![shift+enter effect](images/_4.gif)\n",
    "\n",
    "As you can see, every time I execute code the focus changes to the cell below."
   ]
  },
  {
   "cell_type": "markdown",
   "metadata": {},
   "source": [
    "![green-divider](https://user-images.githubusercontent.com/7065401/52071924-c003ad80-2562-11e9-8297-1c6595f8a7ff.png)"
   ]
  },
  {
   "cell_type": "markdown",
   "metadata": {},
   "source": [
    "## Part 2: Working with code\n",
    "\n",
    "Jupyter notebooks have amazing features to include text and images and create beautiful, human readable documents as you've just seen. But their main benefit is working with code. Now we're going to import a few libraries and start experimenting with Python code. We've already done the simple `2 + 2` before, so let's do something a little bit more interesting. First, we need to import `numpy` and `matplotlib`:"
   ]
  },
  {
   "cell_type": "code",
   "execution_count": null,
   "metadata": {},
   "outputs": [],
   "source": [
    "import numpy as np\n",
    "import matplotlib.pyplot as plt\n",
    "%matplotlib inline"
   ]
  },
  {
   "cell_type": "markdown",
   "metadata": {},
   "source": [
    "Notebooks.ai include all the most popular Data Science and Deep Learning libraries already installed. And even if there's one missing, you can always install it in your own environment (more on that later). We've just imported these two libraries:\n",
    "* `numpy` the most popular Python library for array manipulation and numeric computing\n",
    "* `matplotlib` the most popular visualization library in the Python ecosystem.\n",
    "\n",
    "Let's now execute a few lines of code and generate some plots:"
   ]
  },
  {
   "cell_type": "code",
   "execution_count": null,
   "metadata": {},
   "outputs": [],
   "source": [
    "x = np.linspace(0, 10, 500)\n",
    "y = np.cumsum(np.random.randn(500, 6), 0)"
   ]
  },
  {
   "cell_type": "code",
   "execution_count": null,
   "metadata": {},
   "outputs": [],
   "source": [
    "plt.figure(figsize=(12, 7))\n",
    "plt.plot(x, y)\n",
    "plt.legend('ABCDEF', ncol=2, loc='upper left')"
   ]
  },
  {
   "cell_type": "markdown",
   "metadata": {},
   "source": [
    "But what is that 😱? Just random generated datapoints, but you can clearly see how simple is to do numeric processing and plotting with Notebooks.ai."
   ]
  },
  {
   "cell_type": "markdown",
   "metadata": {},
   "source": [
    "![green-divider](https://user-images.githubusercontent.com/7065401/52071924-c003ad80-2562-11e9-8297-1c6595f8a7ff.png)\n",
    "\n",
    "## Part 3: Interacting with data\n",
    "\n",
    "Notebooks.ai and Jupyter Lab make it really simple to intereact with files in your local storage. These files are securely stored in the cloud and you can access them from anywhere in the world.\n",
    "\n",
    "To show you the full potential of Notebooks.ai, we're going to pull cryptocurrencies prices from a public API and download them as Excel files, pretty fancy 😎. I need to import two libraries first: `requests` (to pull data from the web) and `pandas` to process it."
   ]
  },
  {
   "cell_type": "code",
   "execution_count": 34,
   "metadata": {},
   "outputs": [],
   "source": [
    "import requests\n",
    "import pandas as pd"
   ]
  },
  {
   "cell_type": "markdown",
   "metadata": {},
   "source": [
    "I have a predefined function that simplifies the process of importing data from [Cryptowatch](https://cryptowat.ch) (for reference, check [their docs](https://cryptowat.ch/docs/api#ohlc))."
   ]
  },
  {
   "cell_type": "code",
   "execution_count": 36,
   "metadata": {},
   "outputs": [],
   "source": [
    "def get_historic_price(symbol, exchange='bitfinex', after='2018-09-01'):\n",
    "    url = 'https://api.cryptowat.ch/markets/{exchange}/{symbol}usd/ohlc'.format(\n",
    "        symbol=symbol, exchange=exchange)\n",
    "    resp = requests.get(url, params={\n",
    "        'periods': '3600',\n",
    "        'after': str(int(pd.Timestamp(after).timestamp()))\n",
    "    })\n",
    "    resp.raise_for_status()\n",
    "    data = resp.json()\n",
    "    df = pd.DataFrame(data['result']['3600'], columns=[\n",
    "        'CloseTime', 'OpenPrice', 'HighPrice', 'LowPrice', 'ClosePrice', 'Volume', 'NA'\n",
    "    ])\n",
    "    df['CloseTime'] = pd.to_datetime(df['CloseTime'], unit='s')\n",
    "    df.set_index('CloseTime', inplace=True)\n",
    "    return df"
   ]
  },
  {
   "cell_type": "markdown",
   "metadata": {},
   "source": [
    "I will now pull data from Bitcoin and Ether, two of the most popular cryptocurrencies, for the last 7 days:"
   ]
  },
  {
   "cell_type": "code",
   "execution_count": 37,
   "metadata": {},
   "outputs": [
    {
     "data": {
      "text/plain": [
       "Timestamp('2021-05-10 16:49:48.964496')"
      ]
     },
     "execution_count": 37,
     "metadata": {},
     "output_type": "execute_result"
    }
   ],
   "source": [
    "last_week = (pd.Timestamp.now() - pd.offsets.Day(7))\n",
    "last_week"
   ]
  },
  {
   "cell_type": "code",
   "execution_count": 38,
   "metadata": {},
   "outputs": [],
   "source": [
    "btc = get_historic_price('btc', 'bittrex', after=last_week)"
   ]
  },
  {
   "cell_type": "code",
   "execution_count": 39,
   "metadata": {},
   "outputs": [],
   "source": [
    "eth = get_historic_price('eth', 'bittrex', after=last_week)"
   ]
  },
  {
   "cell_type": "code",
   "execution_count": 50,
   "metadata": {},
   "outputs": [],
   "source": [
    "doge = get_historic_price('doge','bittrex',after=last_week)"
   ]
  },
  {
   "cell_type": "code",
   "execution_count": 51,
   "metadata": {},
   "outputs": [],
   "source": [
    "xrp = get_historic_price('xrp','bitstamp', after=last_week)"
   ]
  },
  {
   "cell_type": "markdown",
   "metadata": {},
   "source": [
    "**Bitcoin:**"
   ]
  },
  {
   "cell_type": "code",
   "execution_count": 11,
   "metadata": {},
   "outputs": [
    {
     "data": {
      "text/html": [
       "<div>\n",
       "<style scoped>\n",
       "    .dataframe tbody tr th:only-of-type {\n",
       "        vertical-align: middle;\n",
       "    }\n",
       "\n",
       "    .dataframe tbody tr th {\n",
       "        vertical-align: top;\n",
       "    }\n",
       "\n",
       "    .dataframe thead th {\n",
       "        text-align: right;\n",
       "    }\n",
       "</style>\n",
       "<table border=\"1\" class=\"dataframe\">\n",
       "  <thead>\n",
       "    <tr style=\"text-align: right;\">\n",
       "      <th></th>\n",
       "      <th>OpenPrice</th>\n",
       "      <th>HighPrice</th>\n",
       "      <th>LowPrice</th>\n",
       "      <th>ClosePrice</th>\n",
       "      <th>Volume</th>\n",
       "      <th>NA</th>\n",
       "    </tr>\n",
       "    <tr>\n",
       "      <th>CloseTime</th>\n",
       "      <th></th>\n",
       "      <th></th>\n",
       "      <th></th>\n",
       "      <th></th>\n",
       "      <th></th>\n",
       "      <th></th>\n",
       "    </tr>\n",
       "  </thead>\n",
       "  <tbody>\n",
       "    <tr>\n",
       "      <th>2021-05-10 16:00:00</th>\n",
       "      <td>56916.13</td>\n",
       "      <td>58431.70</td>\n",
       "      <td>56754.34</td>\n",
       "      <td>58362.94</td>\n",
       "      <td>176.283979</td>\n",
       "      <td>1.012426e+07</td>\n",
       "    </tr>\n",
       "    <tr>\n",
       "      <th>2021-05-10 17:00:00</th>\n",
       "      <td>58388.59</td>\n",
       "      <td>58663.85</td>\n",
       "      <td>57628.94</td>\n",
       "      <td>57674.72</td>\n",
       "      <td>128.747305</td>\n",
       "      <td>7.491109e+06</td>\n",
       "    </tr>\n",
       "    <tr>\n",
       "      <th>2021-05-10 18:00:00</th>\n",
       "      <td>57631.10</td>\n",
       "      <td>57730.63</td>\n",
       "      <td>56925.77</td>\n",
       "      <td>57041.40</td>\n",
       "      <td>174.921985</td>\n",
       "      <td>1.003170e+07</td>\n",
       "    </tr>\n",
       "    <tr>\n",
       "      <th>2021-05-10 19:00:00</th>\n",
       "      <td>57023.93</td>\n",
       "      <td>57251.01</td>\n",
       "      <td>56480.00</td>\n",
       "      <td>56792.24</td>\n",
       "      <td>395.498187</td>\n",
       "      <td>2.248893e+07</td>\n",
       "    </tr>\n",
       "    <tr>\n",
       "      <th>2021-05-10 20:00:00</th>\n",
       "      <td>56792.24</td>\n",
       "      <td>57025.00</td>\n",
       "      <td>55555.88</td>\n",
       "      <td>55694.85</td>\n",
       "      <td>576.378597</td>\n",
       "      <td>3.239651e+07</td>\n",
       "    </tr>\n",
       "  </tbody>\n",
       "</table>\n",
       "</div>"
      ],
      "text/plain": [
       "                     OpenPrice  HighPrice  LowPrice  ClosePrice      Volume  \\\n",
       "CloseTime                                                                     \n",
       "2021-05-10 16:00:00   56916.13   58431.70  56754.34    58362.94  176.283979   \n",
       "2021-05-10 17:00:00   58388.59   58663.85  57628.94    57674.72  128.747305   \n",
       "2021-05-10 18:00:00   57631.10   57730.63  56925.77    57041.40  174.921985   \n",
       "2021-05-10 19:00:00   57023.93   57251.01  56480.00    56792.24  395.498187   \n",
       "2021-05-10 20:00:00   56792.24   57025.00  55555.88    55694.85  576.378597   \n",
       "\n",
       "                               NA  \n",
       "CloseTime                          \n",
       "2021-05-10 16:00:00  1.012426e+07  \n",
       "2021-05-10 17:00:00  7.491109e+06  \n",
       "2021-05-10 18:00:00  1.003170e+07  \n",
       "2021-05-10 19:00:00  2.248893e+07  \n",
       "2021-05-10 20:00:00  3.239651e+07  "
      ]
     },
     "execution_count": 11,
     "metadata": {},
     "output_type": "execute_result"
    }
   ],
   "source": [
    "btc.head()"
   ]
  },
  {
   "cell_type": "code",
   "execution_count": null,
   "metadata": {},
   "outputs": [],
   "source": []
  },
  {
   "cell_type": "code",
   "execution_count": 52,
   "metadata": {},
   "outputs": [
    {
     "data": {
      "text/html": [
       "<div>\n",
       "<style scoped>\n",
       "    .dataframe tbody tr th:only-of-type {\n",
       "        vertical-align: middle;\n",
       "    }\n",
       "\n",
       "    .dataframe tbody tr th {\n",
       "        vertical-align: top;\n",
       "    }\n",
       "\n",
       "    .dataframe thead th {\n",
       "        text-align: right;\n",
       "    }\n",
       "</style>\n",
       "<table border=\"1\" class=\"dataframe\">\n",
       "  <thead>\n",
       "    <tr style=\"text-align: right;\">\n",
       "      <th></th>\n",
       "      <th>OpenPrice</th>\n",
       "      <th>HighPrice</th>\n",
       "      <th>LowPrice</th>\n",
       "      <th>ClosePrice</th>\n",
       "      <th>Volume</th>\n",
       "      <th>NA</th>\n",
       "    </tr>\n",
       "    <tr>\n",
       "      <th>CloseTime</th>\n",
       "      <th></th>\n",
       "      <th></th>\n",
       "      <th></th>\n",
       "      <th></th>\n",
       "      <th></th>\n",
       "      <th></th>\n",
       "    </tr>\n",
       "  </thead>\n",
       "  <tbody>\n",
       "    <tr>\n",
       "      <th>2021-05-10 17:00:00</th>\n",
       "      <td>0.51326</td>\n",
       "      <td>0.51616</td>\n",
       "      <td>0.48813</td>\n",
       "      <td>0.49369</td>\n",
       "      <td>1.566736e+06</td>\n",
       "      <td>7.828282e+05</td>\n",
       "    </tr>\n",
       "    <tr>\n",
       "      <th>2021-05-10 18:00:00</th>\n",
       "      <td>0.49444</td>\n",
       "      <td>0.50337</td>\n",
       "      <td>0.47933</td>\n",
       "      <td>0.48400</td>\n",
       "      <td>1.652626e+06</td>\n",
       "      <td>8.085640e+05</td>\n",
       "    </tr>\n",
       "    <tr>\n",
       "      <th>2021-05-10 19:00:00</th>\n",
       "      <td>0.48670</td>\n",
       "      <td>0.49011</td>\n",
       "      <td>0.45093</td>\n",
       "      <td>0.45300</td>\n",
       "      <td>3.152753e+06</td>\n",
       "      <td>1.475771e+06</td>\n",
       "    </tr>\n",
       "    <tr>\n",
       "      <th>2021-05-10 20:00:00</th>\n",
       "      <td>0.45282</td>\n",
       "      <td>0.48111</td>\n",
       "      <td>0.43000</td>\n",
       "      <td>0.44013</td>\n",
       "      <td>7.240961e+06</td>\n",
       "      <td>3.312408e+06</td>\n",
       "    </tr>\n",
       "    <tr>\n",
       "      <th>2021-05-10 21:00:00</th>\n",
       "      <td>0.43900</td>\n",
       "      <td>0.46938</td>\n",
       "      <td>0.41528</td>\n",
       "      <td>0.45797</td>\n",
       "      <td>6.711872e+06</td>\n",
       "      <td>2.985824e+06</td>\n",
       "    </tr>\n",
       "  </tbody>\n",
       "</table>\n",
       "</div>"
      ],
      "text/plain": [
       "                     OpenPrice  HighPrice  LowPrice  ClosePrice        Volume  \\\n",
       "CloseTime                                                                       \n",
       "2021-05-10 17:00:00    0.51326    0.51616   0.48813     0.49369  1.566736e+06   \n",
       "2021-05-10 18:00:00    0.49444    0.50337   0.47933     0.48400  1.652626e+06   \n",
       "2021-05-10 19:00:00    0.48670    0.49011   0.45093     0.45300  3.152753e+06   \n",
       "2021-05-10 20:00:00    0.45282    0.48111   0.43000     0.44013  7.240961e+06   \n",
       "2021-05-10 21:00:00    0.43900    0.46938   0.41528     0.45797  6.711872e+06   \n",
       "\n",
       "                               NA  \n",
       "CloseTime                          \n",
       "2021-05-10 17:00:00  7.828282e+05  \n",
       "2021-05-10 18:00:00  8.085640e+05  \n",
       "2021-05-10 19:00:00  1.475771e+06  \n",
       "2021-05-10 20:00:00  3.312408e+06  \n",
       "2021-05-10 21:00:00  2.985824e+06  "
      ]
     },
     "execution_count": 52,
     "metadata": {},
     "output_type": "execute_result"
    }
   ],
   "source": [
    "doge.head()"
   ]
  },
  {
   "cell_type": "code",
   "execution_count": 53,
   "metadata": {},
   "outputs": [
    {
     "data": {
      "text/plain": [
       "<AxesSubplot:xlabel='CloseTime'>"
      ]
     },
     "execution_count": 53,
     "metadata": {},
     "output_type": "execute_result"
    },
    {
     "data": {
      "image/png": "[encoded data removed]",
      "text/plain": [
       "<Figure size 1080x504 with 1 Axes>"
      ]
     },
     "metadata": {
      "needs_background": "light"
     },
     "output_type": "display_data"
    }
   ],
   "source": [
    "doge['ClosePrice'].plot(figsize=(15, 7))"
   ]
  },
  {
   "cell_type": "code",
   "execution_count": 14,
   "metadata": {},
   "outputs": [
    {
     "data": {
      "text/plain": [
       "<AxesSubplot:xlabel='CloseTime'>"
      ]
     },
     "execution_count": 14,
     "metadata": {},
     "output_type": "execute_result"
    },
    {
     "data": {
      "image/png": "[encoded data removed]",
      "text/plain": [
       "<Figure size 1080x504 with 1 Axes>"
      ]
     },
     "metadata": {
      "needs_background": "light"
     },
     "output_type": "display_data"
    }
   ],
   "source": [
    "btc['ClosePrice'].plot(figsize=(15, 7))"
   ]
  },
  {
   "cell_type": "markdown",
   "metadata": {},
   "source": [
    "**Ether:**"
   ]
  },
  {
   "cell_type": "code",
   "execution_count": 15,
   "metadata": {},
   "outputs": [
    {
     "data": {
      "text/html": [
       "<div>\n",
       "<style scoped>\n",
       "    .dataframe tbody tr th:only-of-type {\n",
       "        vertical-align: middle;\n",
       "    }\n",
       "\n",
       "    .dataframe tbody tr th {\n",
       "        vertical-align: top;\n",
       "    }\n",
       "\n",
       "    .dataframe thead th {\n",
       "        text-align: right;\n",
       "    }\n",
       "</style>\n",
       "<table border=\"1\" class=\"dataframe\">\n",
       "  <thead>\n",
       "    <tr style=\"text-align: right;\">\n",
       "      <th></th>\n",
       "      <th>OpenPrice</th>\n",
       "      <th>HighPrice</th>\n",
       "      <th>LowPrice</th>\n",
       "      <th>ClosePrice</th>\n",
       "      <th>Volume</th>\n",
       "      <th>NA</th>\n",
       "    </tr>\n",
       "    <tr>\n",
       "      <th>CloseTime</th>\n",
       "      <th></th>\n",
       "      <th></th>\n",
       "      <th></th>\n",
       "      <th></th>\n",
       "      <th></th>\n",
       "      <th></th>\n",
       "    </tr>\n",
       "  </thead>\n",
       "  <tbody>\n",
       "    <tr>\n",
       "      <th>2021-05-10 16:00:00</th>\n",
       "      <td>4045.97</td>\n",
       "      <td>4179.21</td>\n",
       "      <td>4030.22</td>\n",
       "      <td>4164.42</td>\n",
       "      <td>3045.063278</td>\n",
       "      <td>1.247483e+07</td>\n",
       "    </tr>\n",
       "    <tr>\n",
       "      <th>2021-05-10 17:00:00</th>\n",
       "      <td>4165.79</td>\n",
       "      <td>4200.00</td>\n",
       "      <td>4137.50</td>\n",
       "      <td>4137.58</td>\n",
       "      <td>10484.534218</td>\n",
       "      <td>4.390274e+07</td>\n",
       "    </tr>\n",
       "    <tr>\n",
       "      <th>2021-05-10 18:00:00</th>\n",
       "      <td>4137.29</td>\n",
       "      <td>4196.80</td>\n",
       "      <td>4122.00</td>\n",
       "      <td>4138.00</td>\n",
       "      <td>10830.181868</td>\n",
       "      <td>4.497525e+07</td>\n",
       "    </tr>\n",
       "    <tr>\n",
       "      <th>2021-05-10 19:00:00</th>\n",
       "      <td>4138.00</td>\n",
       "      <td>4168.72</td>\n",
       "      <td>4112.74</td>\n",
       "      <td>4136.37</td>\n",
       "      <td>5671.439605</td>\n",
       "      <td>2.346833e+07</td>\n",
       "    </tr>\n",
       "    <tr>\n",
       "      <th>2021-05-10 20:00:00</th>\n",
       "      <td>4132.01</td>\n",
       "      <td>4158.48</td>\n",
       "      <td>3967.53</td>\n",
       "      <td>3992.56</td>\n",
       "      <td>12047.921439</td>\n",
       "      <td>4.910951e+07</td>\n",
       "    </tr>\n",
       "  </tbody>\n",
       "</table>\n",
       "</div>"
      ],
      "text/plain": [
       "                     OpenPrice  HighPrice  LowPrice  ClosePrice        Volume  \\\n",
       "CloseTime                                                                       \n",
       "2021-05-10 16:00:00    4045.97    4179.21   4030.22     4164.42   3045.063278   \n",
       "2021-05-10 17:00:00    4165.79    4200.00   4137.50     4137.58  10484.534218   \n",
       "2021-05-10 18:00:00    4137.29    4196.80   4122.00     4138.00  10830.181868   \n",
       "2021-05-10 19:00:00    4138.00    4168.72   4112.74     4136.37   5671.439605   \n",
       "2021-05-10 20:00:00    4132.01    4158.48   3967.53     3992.56  12047.921439   \n",
       "\n",
       "                               NA  \n",
       "CloseTime                          \n",
       "2021-05-10 16:00:00  1.247483e+07  \n",
       "2021-05-10 17:00:00  4.390274e+07  \n",
       "2021-05-10 18:00:00  4.497525e+07  \n",
       "2021-05-10 19:00:00  2.346833e+07  \n",
       "2021-05-10 20:00:00  4.910951e+07  "
      ]
     },
     "execution_count": 15,
     "metadata": {},
     "output_type": "execute_result"
    }
   ],
   "source": [
    "eth.head()"
   ]
  },
  {
   "cell_type": "code",
   "execution_count": 16,
   "metadata": {},
   "outputs": [
    {
     "data": {
      "text/plain": [
       "<AxesSubplot:xlabel='CloseTime'>"
      ]
     },
     "execution_count": 16,
     "metadata": {},
     "output_type": "execute_result"
    },
    {
     "data": {
      "image/png": "[encoded data removed]",
      "text/plain": [
       "<Figure size 1080x504 with 1 Axes>"
      ]
     },
     "metadata": {
      "needs_background": "light"
     },
     "output_type": "display_data"
    }
   ],
   "source": [
    "eth['ClosePrice'].plot(figsize=(15, 7))"
   ]
  },
  {
   "cell_type": "markdown",
   "metadata": {},
   "source": [
    "As you can see, we're able to pull data from the internet with just a few lines, create a DataFrame and plot it all within Jupyter Lab."
   ]
  },
  {
   "cell_type": "code",
   "execution_count": 17,
   "metadata": {},
   "outputs": [
    {
     "data": {
      "text/html": [
       "<div>\n",
       "<style scoped>\n",
       "    .dataframe tbody tr th:only-of-type {\n",
       "        vertical-align: middle;\n",
       "    }\n",
       "\n",
       "    .dataframe tbody tr th {\n",
       "        vertical-align: top;\n",
       "    }\n",
       "\n",
       "    .dataframe thead th {\n",
       "        text-align: right;\n",
       "    }\n",
       "</style>\n",
       "<table border=\"1\" class=\"dataframe\">\n",
       "  <thead>\n",
       "    <tr style=\"text-align: right;\">\n",
       "      <th></th>\n",
       "      <th>OpenPrice</th>\n",
       "      <th>HighPrice</th>\n",
       "      <th>LowPrice</th>\n",
       "      <th>ClosePrice</th>\n",
       "      <th>Volume</th>\n",
       "      <th>NA</th>\n",
       "    </tr>\n",
       "    <tr>\n",
       "      <th>CloseTime</th>\n",
       "      <th></th>\n",
       "      <th></th>\n",
       "      <th></th>\n",
       "      <th></th>\n",
       "      <th></th>\n",
       "      <th></th>\n",
       "    </tr>\n",
       "  </thead>\n",
       "  <tbody>\n",
       "    <tr>\n",
       "      <th>2021-05-10 16:00:00</th>\n",
       "      <td>4045.97</td>\n",
       "      <td>4179.21</td>\n",
       "      <td>4030.22</td>\n",
       "      <td>4164.42</td>\n",
       "      <td>3045.063278</td>\n",
       "      <td>1.247483e+07</td>\n",
       "    </tr>\n",
       "    <tr>\n",
       "      <th>2021-05-10 17:00:00</th>\n",
       "      <td>4165.79</td>\n",
       "      <td>4200.00</td>\n",
       "      <td>4137.50</td>\n",
       "      <td>4137.58</td>\n",
       "      <td>10484.534218</td>\n",
       "      <td>4.390274e+07</td>\n",
       "    </tr>\n",
       "    <tr>\n",
       "      <th>2021-05-10 18:00:00</th>\n",
       "      <td>4137.29</td>\n",
       "      <td>4196.80</td>\n",
       "      <td>4122.00</td>\n",
       "      <td>4138.00</td>\n",
       "      <td>10830.181868</td>\n",
       "      <td>4.497525e+07</td>\n",
       "    </tr>\n",
       "    <tr>\n",
       "      <th>2021-05-10 19:00:00</th>\n",
       "      <td>4138.00</td>\n",
       "      <td>4168.72</td>\n",
       "      <td>4112.74</td>\n",
       "      <td>4136.37</td>\n",
       "      <td>5671.439605</td>\n",
       "      <td>2.346833e+07</td>\n",
       "    </tr>\n",
       "    <tr>\n",
       "      <th>2021-05-10 20:00:00</th>\n",
       "      <td>4132.01</td>\n",
       "      <td>4158.48</td>\n",
       "      <td>3967.53</td>\n",
       "      <td>3992.56</td>\n",
       "      <td>12047.921439</td>\n",
       "      <td>4.910951e+07</td>\n",
       "    </tr>\n",
       "  </tbody>\n",
       "</table>\n",
       "</div>"
      ],
      "text/plain": [
       "                     OpenPrice  HighPrice  LowPrice  ClosePrice        Volume  \\\n",
       "CloseTime                                                                       \n",
       "2021-05-10 16:00:00    4045.97    4179.21   4030.22     4164.42   3045.063278   \n",
       "2021-05-10 17:00:00    4165.79    4200.00   4137.50     4137.58  10484.534218   \n",
       "2021-05-10 18:00:00    4137.29    4196.80   4122.00     4138.00  10830.181868   \n",
       "2021-05-10 19:00:00    4138.00    4168.72   4112.74     4136.37   5671.439605   \n",
       "2021-05-10 20:00:00    4132.01    4158.48   3967.53     3992.56  12047.921439   \n",
       "\n",
       "                               NA  \n",
       "CloseTime                          \n",
       "2021-05-10 16:00:00  1.247483e+07  \n",
       "2021-05-10 17:00:00  4.390274e+07  \n",
       "2021-05-10 18:00:00  4.497525e+07  \n",
       "2021-05-10 19:00:00  2.346833e+07  \n",
       "2021-05-10 20:00:00  4.910951e+07  "
      ]
     },
     "execution_count": 17,
     "metadata": {},
     "output_type": "execute_result"
    }
   ],
   "source": [
    "eth.head()"
   ]
  },
  {
   "cell_type": "markdown",
   "metadata": {},
   "source": [
    "![green-divider](https://user-images.githubusercontent.com/7065401/52071924-c003ad80-2562-11e9-8297-1c6595f8a7ff.png)\n",
    "\n",
    "### Bonus: Dynamic plots with Bokeh\n",
    "\n",
    "We've also included [Bokeh](https://bokeh.pydata.org/) as part of this main distribution. Bokeh is a plotting library that generates interactive plots, that can be manipulated right within your browser.\n",
    "\n",
    "We first need to import the libraries:"
   ]
  },
  {
   "cell_type": "code",
   "execution_count": 20,
   "metadata": {},
   "outputs": [],
   "source": [
    "from bokeh.plotting import figure, output_file, show\n",
    "from bokeh.io import output_notebook"
   ]
  },
  {
   "cell_type": "code",
   "execution_count": 21,
   "metadata": {},
   "outputs": [
    {
     "data": {
      "text/html": [
       "\n",
       "    <div class=\"bk-root\">\n",
       "        <a href=\"https://bokeh.org\" target=\"_blank\" class=\"bk-logo bk-logo-small bk-logo-notebook\"></a>\n",
       "        <span id=\"1002\">Loading BokehJS ...</span>\n",
       "    </div>"
      ]
     },
     "metadata": {},
     "output_type": "display_data"
    },
    {
     "data": {
      "application/javascript": [
       "\n",
       "(function(root) {\n",
       "  function now() {\n",
       "    return new Date();\n",
       "  }\n",
       "\n",
       "  var force = true;\n",
       "\n",
       "  if (typeof root._bokeh_onload_callbacks === \"undefined\" || force === true) {\n",
       "    root._bokeh_onload_callbacks = [];\n",
       "    root._bokeh_is_loading = undefined;\n",
       "  }\n",
       "\n",
       "  var JS_MIME_TYPE = 'application/javascript';\n",
       "  var HTML_MIME_TYPE = 'text/html';\n",
       "  var EXEC_MIME_TYPE = 'application/vnd.bokehjs_exec.v0+json';\n",
       "  var CLASS_NAME = 'output_bokeh rendered_html';\n",
       "\n",
       "  /**\n",
       "   * Render data to the DOM node\n",
       "   */\n",
       "  function render(props, node) {\n",
       "    var script = document.createElement(\"script\");\n",
       "    node.appendChild(script);\n",
       "  }\n",
       "\n",
       "  /**\n",
       "   * Handle when an output is cleared or removed\n",
       "   */\n",
       "  function handleClearOutput(event, handle) {\n",
       "    var cell = handle.cell;\n",
       "\n",
       "    var id = cell.output_area._bokeh_element_id;\n",
       "    var server_id = cell.output_area._bokeh_server_id;\n",
       "    // Clean up Bokeh references\n",
       "    if (id != null && id in Bokeh.index) {\n",
       "      Bokeh.index[id].model.document.clear();\n",
       "      delete Bokeh.index[id];\n",
       "    }\n",
       "\n",
       "    if (server_id !== undefined) {\n",
       "      // Clean up Bokeh references\n",
       "      var cmd = \"from bokeh.io.state import curstate; print(curstate().uuid_to_server['\" + server_id + \"'].get_sessions()[0].document.roots[0]._id)\";\n",
       "      cell.notebook.kernel.execute(cmd, {\n",
       "        iopub: {\n",
       "          output: function(msg) {\n",
       "            var id = msg.content.text.trim();\n",
       "            if (id in Bokeh.index) {\n",
       "              Bokeh.index[id].model.document.clear();\n",
       "              delete Bokeh.index[id];\n",
       "            }\n",
       "          }\n",
       "        }\n",
       "      });\n",
       "      // Destroy server and session\n",
       "      var cmd = \"import bokeh.io.notebook as ion; ion.destroy_server('\" + server_id + \"')\";\n",
       "      cell.notebook.kernel.execute(cmd);\n",
       "    }\n",
       "  }\n",
       "\n",
       "  /**\n",
       "   * Handle when a new output is added\n",
       "   */\n",
       "  function handleAddOutput(event, handle) {\n",
       "    var output_area = handle.output_area;\n",
       "    var output = handle.output;\n",
       "\n",
       "    // limit handleAddOutput to display_data with EXEC_MIME_TYPE content only\n",
       "    if ((output.output_type != \"display_data\") || (!Object.prototype.hasOwnProperty.call(output.data, EXEC_MIME_TYPE))) {\n",
       "      return\n",
       "    }\n",
       "\n",
       "    var toinsert = output_area.element.find(\".\" + CLASS_NAME.split(' ')[0]);\n",
       "\n",
       "    if (output.metadata[EXEC_MIME_TYPE][\"id\"] !== undefined) {\n",
       "      toinsert[toinsert.length - 1].firstChild.textContent = output.data[JS_MIME_TYPE];\n",
       "      // store reference to embed id on output_area\n",
       "      output_area._bokeh_element_id = output.metadata[EXEC_MIME_TYPE][\"id\"];\n",
       "    }\n",
       "    if (output.metadata[EXEC_MIME_TYPE][\"server_id\"] !== undefined) {\n",
       "      var bk_div = document.createElement(\"div\");\n",
       "      bk_div.innerHTML = output.data[HTML_MIME_TYPE];\n",
       "      var script_attrs = bk_div.children[0].attributes;\n",
       "      for (var i = 0; i < script_attrs.length; i++) {\n",
       "        toinsert[toinsert.length - 1].firstChild.setAttribute(script_attrs[i].name, script_attrs[i].value);\n",
       "        toinsert[toinsert.length - 1].firstChild.textContent = bk_div.children[0].textContent\n",
       "      }\n",
       "      // store reference to server id on output_area\n",
       "      output_area._bokeh_server_id = output.metadata[EXEC_MIME_TYPE][\"server_id\"];\n",
       "    }\n",
       "  }\n",
       "\n",
       "  function register_renderer(events, OutputArea) {\n",
       "\n",
       "    function append_mime(data, metadata, element) {\n",
       "      // create a DOM node to render to\n",
       "      var toinsert = this.create_output_subarea(\n",
       "        metadata,\n",
       "        CLASS_NAME,\n",
       "        EXEC_MIME_TYPE\n",
       "      );\n",
       "      this.keyboard_manager.register_events(toinsert);\n",
       "      // Render to node\n",
       "      var props = {data: data, metadata: metadata[EXEC_MIME_TYPE]};\n",
       "      render(props, toinsert[toinsert.length - 1]);\n",
       "      element.append(toinsert);\n",
       "      return toinsert\n",
       "    }\n",
       "\n",
       "    /* Handle when an output is cleared or removed */\n",
       "    events.on('clear_output.CodeCell', handleClearOutput);\n",
       "    events.on('delete.Cell', handleClearOutput);\n",
       "\n",
       "    /* Handle when a new output is added */\n",
       "    events.on('output_added.OutputArea', handleAddOutput);\n",
       "\n",
       "    /**\n",
       "     * Register the mime type and append_mime function with output_area\n",
       "     */\n",
       "    OutputArea.prototype.register_mime_type(EXEC_MIME_TYPE, append_mime, {\n",
       "      /* Is output safe? */\n",
       "      safe: true,\n",
       "      /* Index of renderer in `output_area.display_order` */\n",
       "      index: 0\n",
       "    });\n",
       "  }\n",
       "\n",
       "  // register the mime type if in Jupyter Notebook environment and previously unregistered\n",
       "  if (root.Jupyter !== undefined) {\n",
       "    var events = require('base/js/events');\n",
       "    var OutputArea = require('notebook/js/outputarea').OutputArea;\n",
       "\n",
       "    if (OutputArea.prototype.mime_types().indexOf(EXEC_MIME_TYPE) == -1) {\n",
       "      register_renderer(events, OutputArea);\n",
       "    }\n",
       "  }\n",
       "\n",
       "  \n",
       "  if (typeof (root._bokeh_timeout) === \"undefined\" || force === true) {\n",
       "    root._bokeh_timeout = Date.now() + 5000;\n",
       "    root._bokeh_failed_load = false;\n",
       "  }\n",
       "\n",
       "  var NB_LOAD_WARNING = {'data': {'text/html':\n",
       "     \"<div style='background-color: #fdd'>\\n\"+\n",
       "     \"<p>\\n\"+\n",
       "     \"BokehJS does not appear to have successfully loaded. If loading BokehJS from CDN, this \\n\"+\n",
       "     \"may be due to a slow or bad network connection. Possible fixes:\\n\"+\n",
       "     \"</p>\\n\"+\n",
       "     \"<ul>\\n\"+\n",
       "     \"<li>re-rerun `output_notebook()` to attempt to load from CDN again, or</li>\\n\"+\n",
       "     \"<li>use INLINE resources instead, as so:</li>\\n\"+\n",
       "     \"</ul>\\n\"+\n",
       "     \"<code>\\n\"+\n",
       "     \"from bokeh.resources import INLINE\\n\"+\n",
       "     \"output_notebook(resources=INLINE)\\n\"+\n",
       "     \"</code>\\n\"+\n",
       "     \"</div>\"}};\n",
       "\n",
       "  function display_loaded() {\n",
       "    var el = document.getElementById(\"1002\");\n",
       "    if (el != null) {\n",
       "      el.textContent = \"BokehJS is loading...\";\n",
       "    }\n",
       "    if (root.Bokeh !== undefined) {\n",
       "      if (el != null) {\n",
       "        el.textContent = \"BokehJS \" + root.Bokeh.version + \" successfully loaded.\";\n",
       "      }\n",
       "    } else if (Date.now() < root._bokeh_timeout) {\n",
       "      setTimeout(display_loaded, 100)\n",
       "    }\n",
       "  }\n",
       "\n",
       "\n",
       "  function run_callbacks() {\n",
       "    try {\n",
       "      root._bokeh_onload_callbacks.forEach(function(callback) {\n",
       "        if (callback != null)\n",
       "          callback();\n",
       "      });\n",
       "    } finally {\n",
       "      delete root._bokeh_onload_callbacks\n",
       "    }\n",
       "    console.debug(\"Bokeh: all callbacks have finished\");\n",
       "  }\n",
       "\n",
       "  function load_libs(css_urls, js_urls, callback) {\n",
       "    if (css_urls == null) css_urls = [];\n",
       "    if (js_urls == null) js_urls = [];\n",
       "\n",
       "    root._bokeh_onload_callbacks.push(callback);\n",
       "    if (root._bokeh_is_loading > 0) {\n",
       "      console.debug(\"Bokeh: BokehJS is being loaded, scheduling callback at\", now());\n",
       "      return null;\n",
       "    }\n",
       "    if (js_urls == null || js_urls.length === 0) {\n",
       "      run_callbacks();\n",
       "      return null;\n",
       "    }\n",
       "    console.debug(\"Bokeh: BokehJS not loaded, scheduling load and callback at\", now());\n",
       "    root._bokeh_is_loading = css_urls.length + js_urls.length;\n",
       "\n",
       "    function on_load() {\n",
       "      root._bokeh_is_loading--;\n",
       "      if (root._bokeh_is_loading === 0) {\n",
       "        console.debug(\"Bokeh: all BokehJS libraries/stylesheets loaded\");\n",
       "        run_callbacks()\n",
       "      }\n",
       "    }\n",
       "\n",
       "    function on_error(url) {\n",
       "      console.error(\"failed to load \" + url);\n",
       "    }\n",
       "\n",
       "    for (let i = 0; i < css_urls.length; i++) {\n",
       "      const url = css_urls[i];\n",
       "      const element = document.createElement(\"link\");\n",
       "      element.onload = on_load;\n",
       "      element.onerror = on_error.bind(null, url);\n",
       "      element.rel = \"stylesheet\";\n",
       "      element.type = \"text/css\";\n",
       "      element.href = url;\n",
       "      console.debug(\"Bokeh: injecting link tag for BokehJS stylesheet: \", url);\n",
       "      document.body.appendChild(element);\n",
       "    }\n",
       "\n",
       "    const hashes = {\"https://cdn.bokeh.org/bokeh/release/bokeh-2.3.2.min.js\": \"XypntL49z55iwGVUW4qsEu83zKL3XEcz0MjuGOQ9SlaaQ68X/g+k1FcioZi7oQAc\", \"https://cdn.bokeh.org/bokeh/release/bokeh-tables-2.3.2.min.js\": \"bEsM86IHGDTLCS0Zod8a8WM6Y4+lafAL/eSiyQcuPzinmWNgNO2/olUF0Z2Dkn5i\", \"https://cdn.bokeh.org/bokeh/release/bokeh-widgets-2.3.2.min.js\": \"TX0gSQTdXTTeScqxj6PVQxTiRW8DOoGVwinyi1D3kxv7wuxQ02XkOxv0xwiypcAH\"};\n",
       "\n",
       "    for (let i = 0; i < js_urls.length; i++) {\n",
       "      const url = js_urls[i];\n",
       "      const element = document.createElement('script');\n",
       "      element.onload = on_load;\n",
       "      element.onerror = on_error.bind(null, url);\n",
       "      element.async = false;\n",
       "      element.src = url;\n",
       "      if (url in hashes) {\n",
       "        element.crossOrigin = \"anonymous\";\n",
       "        element.integrity = \"sha384-\" + hashes[url];\n",
       "      }\n",
       "      console.debug(\"Bokeh: injecting script tag for BokehJS library: \", url);\n",
       "      document.head.appendChild(element);\n",
       "    }\n",
       "  };\n",
       "\n",
       "  function inject_raw_css(css) {\n",
       "    const element = document.createElement(\"style\");\n",
       "    element.appendChild(document.createTextNode(css));\n",
       "    document.body.appendChild(element);\n",
       "  }\n",
       "\n",
       "  \n",
       "  var js_urls = [\"https://cdn.bokeh.org/bokeh/release/bokeh-2.3.2.min.js\", \"https://cdn.bokeh.org/bokeh/release/bokeh-widgets-2.3.2.min.js\", \"https://cdn.bokeh.org/bokeh/release/bokeh-tables-2.3.2.min.js\"];\n",
       "  var css_urls = [];\n",
       "  \n",
       "\n",
       "  var inline_js = [\n",
       "    function(Bokeh) {\n",
       "      Bokeh.set_log_level(\"info\");\n",
       "    },\n",
       "    function(Bokeh) {\n",
       "    \n",
       "    \n",
       "    }\n",
       "  ];\n",
       "\n",
       "  function run_inline_js() {\n",
       "    \n",
       "    if (root.Bokeh !== undefined || force === true) {\n",
       "      \n",
       "    for (var i = 0; i < inline_js.length; i++) {\n",
       "      inline_js[i].call(root, root.Bokeh);\n",
       "    }\n",
       "    if (force === true) {\n",
       "        display_loaded();\n",
       "      }} else if (Date.now() < root._bokeh_timeout) {\n",
       "      setTimeout(run_inline_js, 100);\n",
       "    } else if (!root._bokeh_failed_load) {\n",
       "      console.log(\"Bokeh: BokehJS failed to load within specified timeout.\");\n",
       "      root._bokeh_failed_load = true;\n",
       "    } else if (force !== true) {\n",
       "      var cell = $(document.getElementById(\"1002\")).parents('.cell').data().cell;\n",
       "      cell.output_area.append_execute_result(NB_LOAD_WARNING)\n",
       "    }\n",
       "\n",
       "  }\n",
       "\n",
       "  if (root._bokeh_is_loading === 0) {\n",
       "    console.debug(\"Bokeh: BokehJS loaded, going straight to plotting\");\n",
       "    run_inline_js();\n",
       "  } else {\n",
       "    load_libs(css_urls, js_urls, function() {\n",
       "      console.debug(\"Bokeh: BokehJS plotting callback run at\", now());\n",
       "      run_inline_js();\n",
       "    });\n",
       "  }\n",
       "}(window));"
      ],
      "application/vnd.bokehjs_load.v0+json": "\n(function(root) {\n  function now() {\n    return new Date();\n  }\n\n  var force = true;\n\n  if (typeof root._bokeh_onload_callbacks === \"undefined\" || force === true) {\n    root._bokeh_onload_callbacks = [];\n    root._bokeh_is_loading = undefined;\n  }\n\n  \n\n  \n  if (typeof (root._bokeh_timeout) === \"undefined\" || force === true) {\n    root._bokeh_timeout = Date.now() + 5000;\n    root._bokeh_failed_load = false;\n  }\n\n  var NB_LOAD_WARNING = {'data': {'text/html':\n     \"<div style='background-color: #fdd'>\\n\"+\n     \"<p>\\n\"+\n     \"BokehJS does not appear to have successfully loaded. If loading BokehJS from CDN, this \\n\"+\n     \"may be due to a slow or bad network connection. Possible fixes:\\n\"+\n     \"</p>\\n\"+\n     \"<ul>\\n\"+\n     \"<li>re-rerun `output_notebook()` to attempt to load from CDN again, or</li>\\n\"+\n     \"<li>use INLINE resources instead, as so:</li>\\n\"+\n     \"</ul>\\n\"+\n     \"<code>\\n\"+\n     \"from bokeh.resources import INLINE\\n\"+\n     \"output_notebook(resources=INLINE)\\n\"+\n     \"</code>\\n\"+\n     \"</div>\"}};\n\n  function display_loaded() {\n    var el = document.getElementById(\"1002\");\n    if (el != null) {\n      el.textContent = \"BokehJS is loading...\";\n    }\n    if (root.Bokeh !== undefined) {\n      if (el != null) {\n        el.textContent = \"BokehJS \" + root.Bokeh.version + \" successfully loaded.\";\n      }\n    } else if (Date.now() < root._bokeh_timeout) {\n      setTimeout(display_loaded, 100)\n    }\n  }\n\n\n  function run_callbacks() {\n    try {\n      root._bokeh_onload_callbacks.forEach(function(callback) {\n        if (callback != null)\n          callback();\n      });\n    } finally {\n      delete root._bokeh_onload_callbacks\n    }\n    console.debug(\"Bokeh: all callbacks have finished\");\n  }\n\n  function load_libs(css_urls, js_urls, callback) {\n    if (css_urls == null) css_urls = [];\n    if (js_urls == null) js_urls = [];\n\n    root._bokeh_onload_callbacks.push(callback);\n    if (root._bokeh_is_loading > 0) {\n      console.debug(\"Bokeh: BokehJS is being loaded, scheduling callback at\", now());\n      return null;\n    }\n    if (js_urls == null || js_urls.length === 0) {\n      run_callbacks();\n      return null;\n    }\n    console.debug(\"Bokeh: BokehJS not loaded, scheduling load and callback at\", now());\n    root._bokeh_is_loading = css_urls.length + js_urls.length;\n\n    function on_load() {\n      root._bokeh_is_loading--;\n      if (root._bokeh_is_loading === 0) {\n        console.debug(\"Bokeh: all BokehJS libraries/stylesheets loaded\");\n        run_callbacks()\n      }\n    }\n\n    function on_error(url) {\n      console.error(\"failed to load \" + url);\n    }\n\n    for (let i = 0; i < css_urls.length; i++) {\n      const url = css_urls[i];\n      const element = document.createElement(\"link\");\n      element.onload = on_load;\n      element.onerror = on_error.bind(null, url);\n      element.rel = \"stylesheet\";\n      element.type = \"text/css\";\n      element.href = url;\n      console.debug(\"Bokeh: injecting link tag for BokehJS stylesheet: \", url);\n      document.body.appendChild(element);\n    }\n\n    const hashes = {\"https://cdn.bokeh.org/bokeh/release/bokeh-2.3.2.min.js\": \"XypntL49z55iwGVUW4qsEu83zKL3XEcz0MjuGOQ9SlaaQ68X/g+k1FcioZi7oQAc\", \"https://cdn.bokeh.org/bokeh/release/bokeh-tables-2.3.2.min.js\": \"bEsM86IHGDTLCS0Zod8a8WM6Y4+lafAL/eSiyQcuPzinmWNgNO2/olUF0Z2Dkn5i\", \"https://cdn.bokeh.org/bokeh/release/bokeh-widgets-2.3.2.min.js\": \"TX0gSQTdXTTeScqxj6PVQxTiRW8DOoGVwinyi1D3kxv7wuxQ02XkOxv0xwiypcAH\"};\n\n    for (let i = 0; i < js_urls.length; i++) {\n      const url = js_urls[i];\n      const element = document.createElement('script');\n      element.onload = on_load;\n      element.onerror = on_error.bind(null, url);\n      element.async = false;\n      element.src = url;\n      if (url in hashes) {\n        element.crossOrigin = \"anonymous\";\n        element.integrity = \"sha384-\" + hashes[url];\n      }\n      console.debug(\"Bokeh: injecting script tag for BokehJS library: \", url);\n      document.head.appendChild(element);\n    }\n  };\n\n  function inject_raw_css(css) {\n    const element = document.createElement(\"style\");\n    element.appendChild(document.createTextNode(css));\n    document.body.appendChild(element);\n  }\n\n  \n  var js_urls = [\"https://cdn.bokeh.org/bokeh/release/bokeh-2.3.2.min.js\", \"https://cdn.bokeh.org/bokeh/release/bokeh-widgets-2.3.2.min.js\", \"https://cdn.bokeh.org/bokeh/release/bokeh-tables-2.3.2.min.js\"];\n  var css_urls = [];\n  \n\n  var inline_js = [\n    function(Bokeh) {\n      Bokeh.set_log_level(\"info\");\n    },\n    function(Bokeh) {\n    \n    \n    }\n  ];\n\n  function run_inline_js() {\n    \n    if (root.Bokeh !== undefined || force === true) {\n      \n    for (var i = 0; i < inline_js.length; i++) {\n      inline_js[i].call(root, root.Bokeh);\n    }\n    if (force === true) {\n        display_loaded();\n      }} else if (Date.now() < root._bokeh_timeout) {\n      setTimeout(run_inline_js, 100);\n    } else if (!root._bokeh_failed_load) {\n      console.log(\"Bokeh: BokehJS failed to load within specified timeout.\");\n      root._bokeh_failed_load = true;\n    } else if (force !== true) {\n      var cell = $(document.getElementById(\"1002\")).parents('.cell').data().cell;\n      cell.output_area.append_execute_result(NB_LOAD_WARNING)\n    }\n\n  }\n\n  if (root._bokeh_is_loading === 0) {\n    console.debug(\"Bokeh: BokehJS loaded, going straight to plotting\");\n    run_inline_js();\n  } else {\n    load_libs(css_urls, js_urls, function() {\n      console.debug(\"Bokeh: BokehJS plotting callback run at\", now());\n      run_inline_js();\n    });\n  }\n}(window));"
     },
     "metadata": {},
     "output_type": "display_data"
    }
   ],
   "source": [
    "output_notebook()"
   ]
  },
  {
   "cell_type": "markdown",
   "metadata": {},
   "source": [
    "And we generate the plot:"
   ]
  },
  {
   "cell_type": "code",
   "execution_count": 25,
   "metadata": {},
   "outputs": [
    {
     "data": {
      "text/html": [
       "\n",
       "\n",
       "\n",
       "\n",
       "\n",
       "\n",
       "  <div class=\"bk-root\" id=\"a15fa397-b883-4dd4-8929-768f83a7b01b\" data-root-id=\"1651\"></div>\n"
      ]
     },
     "metadata": {},
     "output_type": "display_data"
    },
    {
     "data": {
      "application/javascript": [
       "(function(root) {\n",
       "  function embed_document(root) {\n",
       "    \n",
       "  var docs_json = {\"4c9116b1-df97-4e78-b649-c9615ca5f689\":{\"defs\":[],\"roots\":{\"references\":[{\"attributes\":{\"below\":[{\"id\":\"1662\"}],\"center\":[{\"id\":\"1665\"},{\"id\":\"1669\"},{\"id\":\"1711\"}],\"left\":[{\"id\":\"1666\"}],\"renderers\":[{\"id\":\"1687\"},{\"id\":\"1716\"}],\"title\":{\"id\":\"1652\"},\"toolbar\":{\"id\":\"1677\"},\"width\":800,\"x_range\":{\"id\":\"1654\"},\"x_scale\":{\"id\":\"1658\"},\"y_range\":{\"id\":\"1656\"},\"y_scale\":{\"id\":\"1660\"}},\"id\":\"1651\",\"subtype\":\"Figure\",\"type\":\"Plot\"},{\"attributes\":{},\"id\":\"1691\",\"type\":\"DatetimeTickFormatter\"},{\"attributes\":{\"axis_label\":\"Date\",\"formatter\":{\"id\":\"1691\"},\"major_label_policy\":{\"id\":\"1692\"},\"ticker\":{\"id\":\"1663\"}},\"id\":\"1662\",\"type\":\"DatetimeAxis\"},{\"attributes\":{},\"id\":\"1692\",\"type\":\"AllLabels\"},{\"attributes\":{\"days\":[1,8,15,22]},\"id\":\"1703\",\"type\":\"DaysTicker\"},{\"attributes\":{\"line_color\":\"#f2a900\",\"x\":{\"field\":\"x\"},\"y\":{\"field\":\"y\"}},\"id\":\"1685\",\"type\":\"Line\"},{\"attributes\":{\"bottom_units\":\"screen\",\"fill_alpha\":0.5,\"fill_color\":\"lightgrey\",\"left_units\":\"screen\",\"level\":\"overlay\",\"line_alpha\":1.0,\"line_color\":\"black\",\"line_dash\":[4,4],\"line_width\":2,\"right_units\":\"screen\",\"syncable\":false,\"top_units\":\"screen\"},\"id\":\"1676\",\"type\":\"BoxAnnotation\"},{\"attributes\":{},\"id\":\"1660\",\"type\":\"LinearScale\"},{\"attributes\":{\"num_minor_ticks\":5,\"tickers\":[{\"id\":\"1698\"},{\"id\":\"1699\"},{\"id\":\"1700\"},{\"id\":\"1701\"},{\"id\":\"1702\"},{\"id\":\"1703\"},{\"id\":\"1704\"},{\"id\":\"1705\"},{\"id\":\"1706\"},{\"id\":\"1707\"},{\"id\":\"1708\"},{\"id\":\"1709\"}]},\"id\":\"1663\",\"type\":\"DatetimeTicker\"},{\"attributes\":{\"source\":{\"id\":\"1684\"}},\"id\":\"1688\",\"type\":\"CDSView\"},{\"attributes\":{\"months\":[0,4,8]},\"id\":\"1707\",\"type\":\"MonthsTicker\"},{\"attributes\":{\"data_source\":{\"id\":\"1713\"},\"glyph\":{\"id\":\"1714\"},\"hover_glyph\":null,\"muted_glyph\":null,\"nonselection_glyph\":{\"id\":\"1715\"},\"view\":{\"id\":\"1717\"}},\"id\":\"1716\",\"type\":\"GlyphRenderer\"},{\"attributes\":{\"label\":{\"value\":\"Bitcoin\"},\"renderers\":[{\"id\":\"1687\"}]},\"id\":\"1712\",\"type\":\"LegendItem\"},{\"attributes\":{},\"id\":\"1696\",\"type\":\"UnionRenderers\"},{\"attributes\":{},\"id\":\"1697\",\"type\":\"Selection\"},{\"attributes\":{},\"id\":\"1709\",\"type\":\"YearsTicker\"},{\"attributes\":{},\"id\":\"1654\",\"type\":\"DataRange1d\"},{\"attributes\":{},\"id\":\"1675\",\"type\":\"HelpTool\"},{\"attributes\":{\"months\":[0,1,2,3,4,5,6,7,8,9,10,11]},\"id\":\"1705\",\"type\":\"MonthsTicker\"},{\"attributes\":{\"axis_label\":\"Price\",\"formatter\":{\"id\":\"1694\"},\"major_label_policy\":{\"id\":\"1695\"},\"ticker\":{\"id\":\"1667\"}},\"id\":\"1666\",\"type\":\"LinearAxis\"},{\"attributes\":{\"line_alpha\":0.1,\"line_color\":\"#f2a900\",\"x\":{\"field\":\"x\"},\"y\":{\"field\":\"y\"}},\"id\":\"1686\",\"type\":\"Line\"},{\"attributes\":{\"text\":\"Crypto Prices\"},\"id\":\"1652\",\"type\":\"Title\"},{\"attributes\":{},\"id\":\"1674\",\"type\":\"ResetTool\"},{\"attributes\":{\"axis\":{\"id\":\"1662\"},\"grid_line_alpha\":0.3,\"ticker\":null},\"id\":\"1665\",\"type\":\"Grid\"},{\"attributes\":{},\"id\":\"1667\",\"type\":\"BasicTicker\"},{\"attributes\":{\"data\":{\"x\":{\"__ndarray__\":\"AABAG3CVd0IAACiKc5V3QgAAEPl2lXdCAAD4Z3qVd0IAAODWfZV3QgAAyEWBlXdCAACwtISVd0IAAJgjiJV3QgAAgJKLlXdCAABoAY+Vd0IAAFBwkpV3QgAAON+VlXdCAAAgTpmVd0IAAAi9nJV3QgAA8CuglXdCAADYmqOVd0IAAMAJp5V3QgAAqHiqlXdCAACQ562Vd0IAAHhWsZV3QgAAYMW0lXdCAABINLiVd0IAADCju5V3QgAAGBK/lXdCAAAAgcKVd0IAAOjvxZV3QgAA0F7JlXdCAAC4zcyVd0IAAKA80JV3QgAAiKvTlXdCAABwGteVd0IAAFiJ2pV3QgAAQPjdlXdCAAAoZ+GVd0IAABDW5JV3QgAA+ETolXdCAADgs+uVd0IAAMgi75V3QgAAsJHylXdCAACYAPaVd0IAAIBv+ZV3QgAAaN78lXdCAABQTQCWd0IAADi8A5Z3QgAAICsHlndCAAAImgqWd0IAAPAIDpZ3QgAA2HcRlndCAADA5hSWd0IAAKhVGJZ3QgAAkMQblndCAAB4Mx+Wd0IAAGCiIpZ3QgAASBEmlndCAAAwgCmWd0IAABjvLJZ3QgAAAF4wlndCAADozDOWd0IAANA7N5Z3QgAAuKo6lndCAACgGT6Wd0IAAIiIQZZ3QgAAcPdElndCAABYZkiWd0IAAEDVS5Z3QgAAKERPlndCAAAQs1KWd0IAAPghVpZ3QgAA4JBZlndCAADI/1yWd0IAALBuYJZ3QgAAmN1jlndCAACATGeWd0IAAGi7apZ3QgAAUCpulndCAAA4mXGWd0IAACAIdZZ3QgAACHd4lndCAADw5XuWd0IAANhUf5Z3QgAAwMOClndCAACoMoaWd0IAAJChiZZ3QgAAeBCNlndCAABgf5CWd0IAAEjuk5Z3QgAAMF2XlndCAAAYzJqWd0IAAAA7npZ3QgAA6KmhlndCAADQGKWWd0IAALiHqJZ3QgAAoParlndCAACIZa+Wd0IAAHDUspZ3QgAAWEO2lndCAABAsrmWd0IAACghvZZ3QgAAEJDAlndCAAD4/sOWd0IAAOBtx5Z3QgAAyNzKlndCAACwS86Wd0IAAJi60ZZ3QgAAgCnVlndCAABomNiWd0IAAFAH3JZ3QgAAOHbflndCAAAg5eKWd0IAAAhU5pZ3QgAA8MLplndCAADYMe2Wd0IAAMCg8JZ3QgAAqA/0lndCAACQfveWd0IAAHjt+pZ3QgAAYFz+lndCAABIywGXd0IAADA6BZd3QgAAGKkIl3dCAAAAGAyXd0IAAOiGD5d3QgAA0PUSl3dCAAC4ZBaXd0IAAKDTGZd3QgAAiEIdl3dCAABwsSCXd0IAAFggJJd3QgAAQI8nl3dCAAAo/iqXd0IAABBtLpd3QgAA+Nsxl3dCAADgSjWXd0IAAMi5OJd3QgAAsCg8l3dCAACYlz+Xd0IAAIAGQ5d3QgAAaHVGl3dCAABQ5EmXd0IAADhTTZd3QgAAIMJQl3dCAAAIMVSXd0IAAPCfV5d3QgAA2A5bl3dCAADAfV6Xd0IAAKjsYZd3QgAAkFtll3dCAAB4ymiXd0IAAGA5bJd3QgAASKhvl3dCAAAwF3OXd0IAABiGdpd3QgAAAPV5l3dCAADoY32Xd0IAANDSgJd3QgAAuEGEl3dCAACgsIeXd0IAAIgfi5d3QgAAcI6Ol3dCAABY/ZGXd0IAAEBslZd3QgAAKNuYl3dCAAAQSpyXd0IAAPi4n5d3QgAA4Cejl3dCAADIlqaXd0IAALAFqpd3QgAAmHStl3dCAACA47CXd0IAAGhStJd3QgAAUMG3l3dCAAA4MLuXd0IAACCfvpd3QgAACA7Cl3dCAADwfMWXd0IAANjryJd3Qg==\",\"dtype\":\"float64\",\"order\":\"little\",\"shape\":[176]},\"y\":{\"__ndarray__\":\"UrgehWtEsECuR+F6lCmwQAAAAAAAKrBAhetRuF4osECF61G4HjGvQOxRuB6FhK5AexSuR2Frr0CuR+F6lIevQB+F61G43K5A4XoUrscnrkA9Ctej8HquQAAAAAAA2q1AzczMzEwirkBI4XoUroquQMP1KFwPVa5AMzMzM7PYrkBmZmZmZvquQAAAAAAAqq5APQrXo/Bkr0CkcD0KV5mvQFK4HoXrC69AhetRuB4Fr0DXo3A9ihqvQAAAAAAAJK9AAAAAAAB0r0AAAAAAgF6vQIXrUbiej69AKVyPwvW9r0AfhetRONmvQDMzMzNzL7BAPQrXozAisEAfhetRuCewQB+F61F4U7BAAAAAAABosEBcj8L1qFWwQAAAAAAAs7BACtejcP3usEBxPQrXI9KwQIXrUbje6bBASOF6FC7KsEDhehSuR9mwQOF6FK7H2rBAH4XrUfjBsECamZmZ2ZKwQArXo3C9uLBAAAAAAADOsEA9CtejMN2wQM3MzMyM47BAj8L1KNxfsEAAAAAAQDSwQKRwPQrXOLBApHA9CtdZr0DD9Shcj+6vQGZmZmYmBLBAH4XrUTggsEDD9ShcT4mwQHsUrkdhxK1AKVyPwvV5rkB7FK5H4UWvQFK4HoXrJa9ACtejcD3ZrkDhehSux4WuQD0K16PwMK9ArkfhepRxr0BmZmZmZgqvQEjhehQu8q1A9ihcj0IFrUDsUbgehWmsQK5H4XoUQ61AcT0K16PHrUDXo3A9ii2uQJqZmZmZIq5AuB6F69FarUBSuB6F6+msQAAAAAAA6KxAAAAAAAAArEDXo3A9ioKsQGZmZmZmDa1AZmZmZuZWrUB7FK5HYausQFK4HoVrEK1AexSuR2HirUAAAAAAADyuQDMzMzMzoa1AAAAAAACarUCPwvUoXLatQJqZmZkZHK5Aj8L1KFzSrUBmZmZmZl+uQKRwPQrXya5ApHA9CtflrkAK16NwPTavQFK4HoXrUq9APQrXo3BSr0DD9Shcj82vQB+F61F4AbBAPQrXozAssEDhehSuBxmwQBSuR+H6BrBAuB6F69H8r0BI4XoULqGvQBSuR+F6J69AZmZmZuazr0A9Ctej8NuvQIXrUbie4K9AexSuR2GDr0DD9ShcDxWwQEjhehQuu69AMzMzMzN7r0AfhetRuFOvQIXrUbgelK9AKVyPwvX5rkB7FK5HYYyuQFK4HoVrj65ApHA9CtdxrkBSuB6F6xOuQArXo3C9fK5AXI/C9SigrkAK16NwPWGuQOxRuB6Fha5Aw/UoXI9LrkDsUbgehYCtQFyPwvUoR61A4XoUrkdPrUA9CtejcEitQFK4HoXroa1AXI/C9ajMrUBcj8L1KHKtQOxRuB4FfKxAAAAAAABsrUCamZmZmemtQBSuR+H6yq1AZmZmZubhrUAUrkfh+qmtQPYoXI/Cj61AhetRuJ4qrkCkcD0K1ziuQAAAAAAAsK1AAAAAAADKrUBxPQrXowuuQM3MzMzMoK1ArkfhehT7rEDsUbgehSWtQOF6FK7Hv6xA7FG4HoVrrEB7FK5H4farQHE9CtejNKxAUrgehWssq0B7FK5HYbSqQJqZmZmZOqpA16NwPQooq0DXo3A9iperQB+F61G4AqxAPQrXo3Afq0DsUbgehbCqQHsUrkdheapAexSuR+FWqUBxPQrXIwCqQIXrUbieF6pAMzMzM7OTqkCF61G4no2rQIXrUbgesKtASOF6FC57q0C4HoXrUe6qQMP1KFwPgKtAAAAAAAA/q0A9Ctej8P6qQJqZmZkZeqpArkfhehSxqUCF61G4ngGpQEjhehSuBKlAFK5H4Xo5qkAzMzMzM22qQLgehetR5apA7FG4HoV+qUApXI/C9dKpQA==\",\"dtype\":\"float64\",\"order\":\"little\",\"shape\":[176]}},\"selected\":{\"id\":\"1728\"},\"selection_policy\":{\"id\":\"1727\"}},\"id\":\"1713\",\"type\":\"ColumnDataSource\"},{\"attributes\":{},\"id\":\"1695\",\"type\":\"AllLabels\"},{\"attributes\":{\"line_color\":\"#A6CEE3\",\"x\":{\"field\":\"x\"},\"y\":{\"field\":\"y\"}},\"id\":\"1714\",\"type\":\"Line\"},{\"attributes\":{\"source\":{\"id\":\"1713\"}},\"id\":\"1717\",\"type\":\"CDSView\"},{\"attributes\":{},\"id\":\"1671\",\"type\":\"WheelZoomTool\"},{\"attributes\":{\"mantissas\":[1,2,5],\"max_interval\":500.0,\"num_minor_ticks\":0},\"id\":\"1698\",\"type\":\"AdaptiveTicker\"},{\"attributes\":{},\"id\":\"1656\",\"type\":\"DataRange1d\"},{\"attributes\":{\"line_alpha\":0.1,\"line_color\":\"#A6CEE3\",\"x\":{\"field\":\"x\"},\"y\":{\"field\":\"y\"}},\"id\":\"1715\",\"type\":\"Line\"},{\"attributes\":{\"overlay\":{\"id\":\"1676\"}},\"id\":\"1672\",\"type\":\"BoxZoomTool\"},{\"attributes\":{},\"id\":\"1658\",\"type\":\"LinearScale\"},{\"attributes\":{},\"id\":\"1728\",\"type\":\"Selection\"},{\"attributes\":{\"base\":60,\"mantissas\":[1,2,5,10,15,20,30],\"max_interval\":1800000.0,\"min_interval\":1000.0,\"num_minor_ticks\":0},\"id\":\"1699\",\"type\":\"AdaptiveTicker\"},{\"attributes\":{\"base\":24,\"mantissas\":[1,2,4,6,8,12],\"max_interval\":43200000.0,\"min_interval\":3600000.0,\"num_minor_ticks\":0},\"id\":\"1700\",\"type\":\"AdaptiveTicker\"},{\"attributes\":{\"days\":[1,2,3,4,5,6,7,8,9,10,11,12,13,14,15,16,17,18,19,20,21,22,23,24,25,26,27,28,29,30,31]},\"id\":\"1701\",\"type\":\"DaysTicker\"},{\"attributes\":{\"label\":{\"value\":\"Ether\"},\"renderers\":[{\"id\":\"1716\"}]},\"id\":\"1742\",\"type\":\"LegendItem\"},{\"attributes\":{},\"id\":\"1673\",\"type\":\"SaveTool\"},{\"attributes\":{\"months\":[0,2,4,6,8,10]},\"id\":\"1706\",\"type\":\"MonthsTicker\"},{\"attributes\":{},\"id\":\"1670\",\"type\":\"PanTool\"},{\"attributes\":{\"days\":[1,4,7,10,13,16,19,22,25,28]},\"id\":\"1702\",\"type\":\"DaysTicker\"},{\"attributes\":{\"days\":[1,15]},\"id\":\"1704\",\"type\":\"DaysTicker\"},{\"attributes\":{},\"id\":\"1727\",\"type\":\"UnionRenderers\"},{\"attributes\":{\"months\":[0,6]},\"id\":\"1708\",\"type\":\"MonthsTicker\"},{\"attributes\":{\"data\":{\"x\":{\"__ndarray__\":\"AABAG3CVd0IAACiKc5V3QgAAEPl2lXdCAAD4Z3qVd0IAAODWfZV3QgAAyEWBlXdCAACwtISVd0IAAJgjiJV3QgAAgJKLlXdCAABoAY+Vd0IAAFBwkpV3QgAAON+VlXdCAAAgTpmVd0IAAAi9nJV3QgAA8CuglXdCAADYmqOVd0IAAMAJp5V3QgAAqHiqlXdCAACQ562Vd0IAAHhWsZV3QgAAYMW0lXdCAABINLiVd0IAADCju5V3QgAAGBK/lXdCAAAAgcKVd0IAAOjvxZV3QgAA0F7JlXdCAAC4zcyVd0IAAKA80JV3QgAAiKvTlXdCAABwGteVd0IAAFiJ2pV3QgAAQPjdlXdCAAAoZ+GVd0IAABDW5JV3QgAA+ETolXdCAADgs+uVd0IAAMgi75V3QgAAsJHylXdCAACYAPaVd0IAAIBv+ZV3QgAAaN78lXdCAABQTQCWd0IAADi8A5Z3QgAAICsHlndCAAAImgqWd0IAAPAIDpZ3QgAA2HcRlndCAADA5hSWd0IAAKhVGJZ3QgAAkMQblndCAAB4Mx+Wd0IAAGCiIpZ3QgAASBEmlndCAAAwgCmWd0IAABjvLJZ3QgAAAF4wlndCAADozDOWd0IAANA7N5Z3QgAAuKo6lndCAACgGT6Wd0IAAIiIQZZ3QgAAcPdElndCAABYZkiWd0IAAEDVS5Z3QgAAKERPlndCAAAQs1KWd0IAAPghVpZ3QgAA4JBZlndCAADI/1yWd0IAALBuYJZ3QgAAmN1jlndCAACATGeWd0IAAGi7apZ3QgAAUCpulndCAAA4mXGWd0IAACAIdZZ3QgAACHd4lndCAADw5XuWd0IAANhUf5Z3QgAAwMOClndCAACoMoaWd0IAAJChiZZ3QgAAeBCNlndCAABgf5CWd0IAAEjuk5Z3QgAAMF2XlndCAAAYzJqWd0IAAAA7npZ3QgAA6KmhlndCAADQGKWWd0IAALiHqJZ3QgAAoParlndCAACIZa+Wd0IAAHDUspZ3QgAAWEO2lndCAABAsrmWd0IAACghvZZ3QgAAEJDAlndCAAD4/sOWd0IAAOBtx5Z3QgAAyNzKlndCAACwS86Wd0IAAJi60ZZ3QgAAgCnVlndCAABomNiWd0IAAFAH3JZ3QgAAOHbflndCAAAg5eKWd0IAAAhU5pZ3QgAA8MLplndCAADYMe2Wd0IAAMCg8JZ3QgAAqA/0lndCAACQfveWd0IAAHjt+pZ3QgAAYFz+lndCAABIywGXd0IAADA6BZd3QgAAGKkIl3dCAAAAGAyXd0IAAOiGD5d3QgAA0PUSl3dCAAC4ZBaXd0IAAKDTGZd3QgAAiEIdl3dCAABwsSCXd0IAAFggJJd3QgAAQI8nl3dCAAAo/iqXd0IAABBtLpd3QgAA+Nsxl3dCAADgSjWXd0IAAMi5OJd3QgAAsCg8l3dCAACYlz+Xd0IAAIAGQ5d3QgAAaHVGl3dCAABQ5EmXd0IAADhTTZd3QgAAIMJQl3dCAAAIMVSXd0IAAPCfV5d3QgAA2A5bl3dCAADAfV6Xd0IAAKjsYZd3QgAAkFtll3dCAAB4ymiXd0IAAGA5bJd3QgAASKhvl3dCAAAwF3OXd0IAABiGdpd3QgAAAPV5l3dCAADoY32Xd0IAANDSgJd3QgAAuEGEl3dCAACgsIeXd0IAAIgfi5d3QgAAcI6Ol3dCAABY/ZGXd0IAAEBslZd3QgAAKNuYl3dCAAAQSpyXd0IAAPi4n5d3QgAA4Cejl3dCAADIlqaXd0IAALAFqpd3QgAAmHStl3dCAACA47CXd0IAAGhStJd3QgAAUMG3l3dCAAA4MLuXd0IAACCfvpd3QgAACA7Cl3dCAADwfMWXd0IAANjryJd3Qg==\",\"dtype\":\"float64\",\"order\":\"little\",\"shape\":[176]},\"y\":{\"__ndarray__\":\"SOF6FF5/7ECkcD0KVynsQM3MzMws2utA4XoUrge760AzMzMz2zHrQIXrUbhuAetASOF6FJ4460DNzMzMnH3rQKRwPQoXSetAAAAAAIAe60C4HoXrASXrQKRwPQpvsepAj8L1KMzx6kC4HoXr+QXrQClcj8KFyOpAcT0K1xs860CPwvUoLDrrQOF6FK5HC+tA7FG4HpVX60AzMzMzK0vrQK5H4Xqk/upAXI/C9bAR60BI4XoUPjvrQJqZmZmBOutAZmZmZiZk60BI4XoUDmDrQPYoXI/Kk+tAAAAAAEiR60BI4XoUNrPrQK5H4Xo0yutA4XoUrpeg60AUrkfhIpXrQGZmZmZ2t+tAAAAAAIgJ7EDD9Shcf+XrQFyPwvWY8etAZmZmZg467EDD9ShcFwrsQJqZmZmp+etA7FG4HhXg60CuR+F65OvrQAAAAAC40utASOF6FK7L60CuR+F69GHrQM3MzMw8lOtAhetRuPaK60AUrkfhOsXrQHsUrkeJZ+tA4XoUrlcb60BmZmZmVuHqQOF6FK5fz+pAhetRuK5t6kBcj8L1CJzqQHsUrkfZl+pAuB6F67Gq6kBI4XoUJtPpQLgehetRHehAXI/C9fhI6EDNzMzMtK7oQKRwPQovjehAAAAAAICo6EAK16NwZazoQAAAAADg3uhAZmZmZr4X6UD2KFyPGtroQAAAAABYcOhAAAAAAIAD6EBcj8L1WAfoQD0K16PwTuhAhetRuOaA6EAK16NwRbDoQAAAAAAAl+hACtejcD1A6EBmZmZmbsbnQNejcD2SqedAuB6F61Fd50BxPQrXq7TnQM3MzMz0FOhA4XoUric46EAUrkfhMuPnQIXrUbjeQ+hAmpmZmTFy6ECPwvUo7HXoQArXo3D9MehAH4XrUQAL6EBmZmZmfgvoQDMzMzNDR+hAZmZmZob850CuR+F6PG7oQNejcD1qoehA7FG4Hl2p6ED2KFyPGtHoQArXo3BduuhAzczMzMyc6ECuR+F6JOvoQOF6FK6/3+hAj8L1KLQO6UDsUbgeFdvoQPYoXI86u+hAH4XrUTir6ECuR+F6zILoQHsUrkd5BehAhetRuFZa6ECamZmZQWXoQClcj8INW+hAKVyPwu0q6EDNzMzMxL7oQGZmZmaOeehAhetRuC5C6EAfhetRUCHoQFK4HoVrSOhA7FG4Hu3t50DhehSuD7HnQFyPwvU42edACtejcEXF50CuR+F6jKHnQHE9Ctcz6edAzczMzIQK6ECuR+F6dO3nQClcj8LVJehAXI/C9djv50CamZmZ0WbnQKRwPQqfXedAUrgehSNn50BxPQrX63jnQOF6FK7fjedA4XoUru+n50CkcD0KN27nQK5H4XqczuZA9ihcj9oW50Bcj8L1mHfnQAAAAABQg+dAcT0K17Oe50C4HoXrMX/nQD0K16NghOdAcT0K11vy50CkcD0KNxfoQB+F61Gg5udAhetRuM4P6EB7FK5HYTjoQClcj8L19edAcT0K14PB50BxPQrX0+fnQClcj8I1m+dACtejcF1T50AAAAAAgBrnQEjhehT2BudAzczMzPQr5kAAAAAAwD3mQMP1KFy3huVAzczMzKwP5kBxPQrXmzzmQAAAAACYreZArkfheiRC5kCuR+F6zOTlQKRwPQrnuOVA7FG4HgXx5ECPwvUoXELlQHE9CtdziOVAzczMzFSo5UAUrkfhCg/mQD0K16NoKeZAZmZmZk4w5kB7FK5HqcDlQFyPwvWAXeZAPQrXoxj55UBSuB6FM/zlQPYoXI+qtuVArkfheqQq5UCuR+F67MPkQHsUrkcxy+RApHA9Cl9E5UCF61G4PpjlQAAAAABQ4uVA7FG4HgVC5UBxPQrXg3LlQA==\",\"dtype\":\"float64\",\"order\":\"little\",\"shape\":[176]}},\"selected\":{\"id\":\"1697\"},\"selection_policy\":{\"id\":\"1696\"}},\"id\":\"1684\",\"type\":\"ColumnDataSource\"},{\"attributes\":{\"data_source\":{\"id\":\"1684\"},\"glyph\":{\"id\":\"1685\"},\"hover_glyph\":null,\"muted_glyph\":null,\"nonselection_glyph\":{\"id\":\"1686\"},\"view\":{\"id\":\"1688\"}},\"id\":\"1687\",\"type\":\"GlyphRenderer\"},{\"attributes\":{},\"id\":\"1694\",\"type\":\"BasicTickFormatter\"},{\"attributes\":{\"axis\":{\"id\":\"1666\"},\"dimension\":1,\"grid_line_alpha\":0.3,\"ticker\":null},\"id\":\"1669\",\"type\":\"Grid\"},{\"attributes\":{\"items\":[{\"id\":\"1712\"},{\"id\":\"1742\"}],\"location\":\"top_left\"},\"id\":\"1711\",\"type\":\"Legend\"},{\"attributes\":{\"active_multi\":null,\"tools\":[{\"id\":\"1670\"},{\"id\":\"1671\"},{\"id\":\"1672\"},{\"id\":\"1673\"},{\"id\":\"1674\"},{\"id\":\"1675\"}]},\"id\":\"1677\",\"type\":\"Toolbar\"}],\"root_ids\":[\"1651\"]},\"title\":\"Bokeh Application\",\"version\":\"2.3.2\"}};\n",
       "  var render_items = [{\"docid\":\"4c9116b1-df97-4e78-b649-c9615ca5f689\",\"root_ids\":[\"1651\"],\"roots\":{\"1651\":\"a15fa397-b883-4dd4-8929-768f83a7b01b\"}}];\n",
       "  root.Bokeh.embed.embed_items_notebook(docs_json, render_items);\n",
       "\n",
       "  }\n",
       "  if (root.Bokeh !== undefined) {\n",
       "    embed_document(root);\n",
       "  } else {\n",
       "    var attempts = 0;\n",
       "    var timer = setInterval(function(root) {\n",
       "      if (root.Bokeh !== undefined) {\n",
       "        clearInterval(timer);\n",
       "        embed_document(root);\n",
       "      } else {\n",
       "        attempts++;\n",
       "        if (attempts > 100) {\n",
       "          clearInterval(timer);\n",
       "          console.log(\"Bokeh: ERROR: Unable to run BokehJS code because BokehJS library is missing\");\n",
       "        }\n",
       "      }\n",
       "    }, 10, root)\n",
       "  }\n",
       "})(window);"
      ],
      "application/vnd.bokehjs_exec.v0+json": ""
     },
     "metadata": {
      "application/vnd.bokehjs_exec.v0+json": {
       "id": "1651"
      }
     },
     "output_type": "display_data"
    }
   ],
   "source": [
    "p1 = figure(x_axis_type=\"datetime\", title=\"Crypto Prices\", width=800)\n",
    "p1.grid.grid_line_alpha=0.3\n",
    "p1.xaxis.axis_label = 'Date'\n",
    "p1.yaxis.axis_label = 'Price'\n",
    "\n",
    "p1.line(btc.index, btc['ClosePrice'], color='#f2a900', legend_label='Bitcoin')\n",
    "p1.line(eth.index, eth['ClosePrice'], color='#A6CEE3', legend_label='Ether')\n",
    "\n",
    "p1.legend.location = \"top_left\"\n",
    "\n",
    "show(p1)"
   ]
  },
  {
   "cell_type": "markdown",
   "metadata": {},
   "source": [
    "☝️ as you can see, the plot is interactive. Try zomming in and out, and scrolling in the plot."
   ]
  },
  {
   "cell_type": "markdown",
   "metadata": {},
   "source": [
    "![green-divider](https://user-images.githubusercontent.com/7065401/52071924-c003ad80-2562-11e9-8297-1c6595f8a7ff.png)\n",
    "\n",
    "## Part 4: Exporting to Excel\n",
    "\n",
    "We're now ready to generate an Excel file from the downloaded prices. Working with Excel and other formats (like CSV or JSON) is extremely simple in Jupyter Lab (thanks to pandas and Python). Our first step will be to create an \"Excel writer\", a component from the `pandas` package:"
   ]
  },
  {
   "cell_type": "code",
   "execution_count": 27,
   "metadata": {},
   "outputs": [],
   "source": [
    "writer = pd.ExcelWriter('cryptos.xlsx')"
   ]
  },
  {
   "cell_type": "markdown",
   "metadata": {},
   "source": [
    "We'll now write both our Bitcoin and Ether data as separate sheets:"
   ]
  },
  {
   "cell_type": "code",
   "execution_count": 29,
   "metadata": {},
   "outputs": [],
   "source": [
    "btc.to_excel(writer, sheet_name='Bitcoin')"
   ]
  },
  {
   "cell_type": "code",
   "execution_count": 30,
   "metadata": {},
   "outputs": [],
   "source": [
    "eth.to_excel(writer, sheet_name='Ether')"
   ]
  },
  {
   "cell_type": "markdown",
   "metadata": {},
   "source": [
    "And finally, we can save the file:"
   ]
  },
  {
   "cell_type": "code",
   "execution_count": 31,
   "metadata": {},
   "outputs": [],
   "source": [
    "writer.save()"
   ]
  },
  {
   "cell_type": "markdown",
   "metadata": {},
   "source": [
    "Once you've saved the file, you should see it in the left side navigation bar:\n",
    "\n",
    "![Excel file](images/_5.png)"
   ]
  },
  {
   "cell_type": "markdown",
   "metadata": {},
   "source": [
    "## Final words and how to get help\n",
    "\n",
    "That's it! It's your time now to start working and playing around with jupyter lab and Notebooks.ai. This product is in an early stage, so we'd love to receive all your feedback and suggestions. If you need help or ideas for us to implement, create an issue in the following replo: [https://github.com/notebooks-ai/notebooks-help](https://github.com/notebooks-ai/notebooks-help). It'll be highly appreciated!"
   ]
  },
  {
   "cell_type": "markdown",
   "metadata": {},
   "source": [
    "![purple-divider](https://user-images.githubusercontent.com/7065401/52071927-c1cd7100-2562-11e9-908a-dde91ba14e59.png)"
   ]
  }
 ],
 "metadata": {
  "kernelspec": {
   "display_name": "Python 3",
   "language": "python",
   "name": "python3"
  },
  "language_info": {
   "codemirror_mode": {
    "name": "ipython",
    "version": 3
   },
   "file_extension": ".py",
   "mimetype": "text/x-python",
   "name": "python",
   "nbconvert_exporter": "python",
   "pygments_lexer": "ipython3",
   "version": "3.8.8"
  }
 },
 "nbformat": 4,
 "nbformat_minor": 4
}
